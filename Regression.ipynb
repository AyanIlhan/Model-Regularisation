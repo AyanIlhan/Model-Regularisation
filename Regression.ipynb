{
  "nbformat": 4,
  "nbformat_minor": 0,
  "metadata": {
    "colab": {
      "name": "Regression.ipynb",
      "provenance": []
    },
    "kernelspec": {
      "name": "python3",
      "display_name": "Python 3"
    }
  },
  "cells": [
    {
      "cell_type": "code",
      "metadata": {
        "id": "0eHRrf1Mm_e6",
        "colab_type": "code",
        "colab": {}
      },
      "source": [
        "# import libraries\n",
        "import pandas as pd\n",
        "import matplotlib.pyplot as plt\n",
        "import numpy as np\n",
        "from math import sqrt"
      ],
      "execution_count": 0,
      "outputs": []
    },
    {
      "cell_type": "code",
      "metadata": {
        "id": "EwQM4JN5nM0V",
        "colab_type": "code",
        "colab": {}
      },
      "source": [
        "# read csv\n",
        "data = pd.read_csv(\"data.csv\", header = 0)\n",
        "\n",
        "# define variables\n",
        "Y = data['price_x1000_sh']\n",
        "X = data['size_in_sq_ft']"
      ],
      "execution_count": 0,
      "outputs": []
    },
    {
      "cell_type": "code",
      "metadata": {
        "id": "gpql8y5hnX9v",
        "colab_type": "code",
        "colab": {}
      },
      "source": [
        "def mse(N, Y, Y_hat):\n",
        "  return (1/N) * sum(Y - Y_hat) ** 2"
      ],
      "execution_count": 0,
      "outputs": []
    },
    {
      "cell_type": "code",
      "metadata": {
        "id": "FbPq1nmrnbFA",
        "colab_type": "code",
        "colab": {}
      },
      "source": [
        "def grad_descent_fit(X, Y, L = 0.0001):\n",
        "  # define y-intercept, slope, learning rate, epochs\n",
        "  m = 0\n",
        "  c = 0\n",
        "  epoch = 100\n",
        "  N = float(len(X))\n",
        "  epoch_count_list = []\n",
        "  epoch_error_list = []\n",
        "  for i in range(epoch):\n",
        "    # predicted value\n",
        "    Y_hat = m * X + c\n",
        "    epoch_count_list.append(i)\n",
        "    epoch_error = mse(N, Y, Y_hat)\n",
        "    epoch_error_list.append(epoch_error)\n",
        "    # derivative wrt to m\n",
        "    D_m = (-2/N) * sum(X * (Y - Y_hat))\n",
        "    # derivative wrt to c\n",
        "    D_c = (-2/N) * sum(Y - Y_hat)\n",
        "\n",
        "    # new m and c\n",
        "    m = m - L * D_m\n",
        "    c = c - L * D_c\n",
        "  print(\"Final m: \", m, \"and final c is: \", c)\n",
        "  return Y_hat"
      ],
      "execution_count": 0,
      "outputs": []
    },
    {
      "cell_type": "code",
      "metadata": {
        "id": "gqm_l2XgneQ_",
        "colab_type": "code",
        "colab": {}
      },
      "source": [
        "def lasso_fit(X, Y, lamda = 1.5, L = 0.0001):\n",
        "  w = 1\n",
        "  b = 0\n",
        "  N = float(len(X))\n",
        "  for i in range(100):\n",
        "    # predicted value\n",
        "    Y_hat = w * X + b\n",
        "    # derivative wrt to w\n",
        "    D_w = (-2/N) * sum(X * (Y - Y_hat)) - lamda * (w/abs(w))\n",
        "    # derivative wrt to b\n",
        "    D_b = (-2/N) * sum(Y - Y_hat)\n",
        "\n",
        "    # new w and b\n",
        "    w = w - (L * D_w)\n",
        "    b = b - (L * D_b)\n",
        "  print(\"Final lasso regression w: \", w, \"and b is: \", b)\n",
        "  return Y_hat"
      ],
      "execution_count": 0,
      "outputs": []
    },
    {
      "cell_type": "code",
      "metadata": {
        "id": "xaejpbKWnhY6",
        "colab_type": "code",
        "colab": {}
      },
      "source": [
        "def ridge_fit(X, Y, lamda = 1.5, L = 0.0001):\n",
        "  w = 1\n",
        "  b = 0\n",
        "  N = float(len(X))\n",
        "  for i in range(100):\n",
        "    Y_hat = w * X + b\n",
        "    D_w = (-2/N) * sum(X * (Y - Y_hat)) - (2 * lamda * w)\n",
        "    D_b = (-2/N) * sum(Y - Y_hat)\n",
        "\n",
        "    w = w - (L * D_w)\n",
        "    b = b - (L * D_b)\n",
        "  print(\"Final ridge regression w: \", w, \"and b is: \", b)\n",
        "  return Y_hat"
      ],
      "execution_count": 0,
      "outputs": []
    },
    {
      "cell_type": "code",
      "metadata": {
        "id": "F-7NsfIknkWl",
        "colab_type": "code",
        "colab": {
          "base_uri": "https://localhost:8080/",
          "height": 347
        },
        "outputId": "28eb18af-70e8-497e-8a16-38633fee1121"
      },
      "source": [
        "GD_Y_hat = grad_descent_fit(X, Y)\n",
        "Lasso_Y_hat = lasso_fit(X, Y)\n",
        "Ridge_Y_hat = ridge_fit(X, Y)\n",
        "\n",
        "# do the plot\n",
        "plt.scatter(X, Y)\n",
        "plt.ylabel(\"Monthly rate in Kshs.\")\n",
        "plt.xlabel(\"Size in square feet\")\n",
        "\n",
        "plt.plot([min(X), max(X)], [min(GD_Y_hat), max(GD_Y_hat)], color = 'black')\n",
        "plt.plot([min(X), max(X)], [min(Lasso_Y_hat), max(Lasso_Y_hat)], color = 'red')\n",
        "plt.plot([min(X), max(X)], [min(Ridge_Y_hat), max(Ridge_Y_hat)], color = 'yellow')"
      ],
      "execution_count": 7,
      "outputs": [
        {
          "output_type": "stream",
          "text": [
            "Final m:  1.4788027175308887 and final c is:  0.03507497059521459\n",
            "Final lasso regression w:  1.4794952303588504 and b is:  0.01515400542226122\n",
            "Final ridge regression w:  1.4800962063369065 and b is:  0.014593778825164806\n"
          ],
          "name": "stdout"
        },
        {
          "output_type": "execute_result",
          "data": {
            "text/plain": [
              "[<matplotlib.lines.Line2D at 0x7f7f898d8a58>]"
            ]
          },
          "metadata": {
            "tags": []
          },
          "execution_count": 7
        },
        {
          "output_type": "display_data",
          "data": {
            "image/png": "[encoded data removed]",
            "text/plain": [
              "<Figure size 432x288 with 1 Axes>"
            ]
          },
          "metadata": {
            "tags": [],
            "needs_background": "light"
          }
        }
      ]
    }
  ]
}